{
  "cells": [
    {
      "metadata": {
        "collapsed": true
      },
      "cell_type": "markdown",
      "source": "# Confirmed cases of the coronavirus by country as of March 28, 2020"
    },
    {
      "metadata": {},
      "cell_type": "markdown",
      "source": "# Import libraries"
    },
    {
      "metadata": {
        "trusted": true
      },
      "cell_type": "code",
      "source": "import numpy as np \nimport pandas as pd \nimport plotly as py\nimport plotly.express as px\nimport plotly.graph_objs as go\nfrom plotly.subplots import make_subplots\nfrom plotly.offline import download_plotlyjs, init_notebook_mode, plot, iplot\ninit_notebook_mode(connected=True)",
      "execution_count": 1,
      "outputs": [
        {
          "output_type": "display_data",
          "data": {
            "text/html": "        <script type=\"text/javascript\">\n        window.PlotlyConfig = {MathJaxConfig: 'local'};\n        if (window.MathJax) {MathJax.Hub.Config({SVG: {font: \"STIX-Web\"}});}\n        if (typeof require !== 'undefined') {\n        require.undef(\"plotly\");\n        requirejs.config({\n            paths: {\n                'plotly': ['https://cdn.plot.ly/plotly-latest.min']\n            }\n        });\n        require(['plotly'], function(Plotly) {\n            window._Plotly = Plotly;\n        });\n        }\n        </script>\n        "
          },
          "metadata": {}
        }
      ]
    },
    {
      "metadata": {},
      "cell_type": "markdown",
      "source": "# Read Data and store in \" df \" (dataframe) variable"
    },
    {
      "metadata": {
        "trusted": true
      },
      "cell_type": "code",
      "source": "df = pd.read_csv(\"inputs/covid_19_data.csv\")",
      "execution_count": 5,
      "outputs": []
    },
    {
      "metadata": {},
      "cell_type": "markdown",
      "source": "# Rename columns"
    },
    {
      "metadata": {
        "trusted": true
      },
      "cell_type": "code",
      "source": "df = df.rename(columns={'Country/Region':'Country'})\ndf = df.rename(columns={'ObservationDate':'Date'})",
      "execution_count": 6,
      "outputs": []
    },
    {
      "metadata": {},
      "cell_type": "markdown",
      "source": "# Manipulate Dataframe"
    },
    {
      "metadata": {
        "trusted": true
      },
      "cell_type": "code",
      "source": "df_countries = df.groupby(['Country', 'Date']).sum().reset_index().sort_values('Date', ascending=False)\ndf_countries = df_countries.drop_duplicates(subset = ['Country'])\ndf_countries = df_countries[df_countries['Confirmed']>0]\n\n# Create the Choropleth\nfig = go.Figure(data=go.Choropleth(\n    locations = df_countries['Country'],\n    locationmode = 'country names',\n    z = df_countries['Confirmed'],\n    colorscale = 'Reds',\n    marker_line_color = 'black',\n    marker_line_width = 0.5,\n))\n\nfig.update_layout(\n    title_text = 'Confirmed Cases as of March 28, 2020',\n    title_x = 0.5,\n    geo=dict(\n        showframe = False,\n        showcoastlines = False,\n        projection_type = 'equirectangular'\n    )\n)",
      "execution_count": 11,
      "outputs": [
        {
          "output_type": "display_data",
          "data": {
            "text/html": "<div>\n        \n        \n            <div id=\"5c757bf9-3b85-4d91-9b4f-f6a1316dac4b\" class=\"plotly-graph-div\" style=\"height:525px; width:100%;\"></div>\n            <script type=\"text/javascript\">\n                require([\"plotly\"], function(Plotly) {\n                    window.PLOTLYENV=window.PLOTLYENV || {};\n                    \n                if (document.getElementById(\"5c757bf9-3b85-4d91-9b4f-f6a1316dac4b\")) {\n                    Plotly.newPlot(\n                        '5c757bf9-3b85-4d91-9b4f-f6a1316dac4b',\n                        [{\"colorscale\": [[0.0, \"rgb(255,245,240)\"], [0.125, \"rgb(254,224,210)\"], [0.25, \"rgb(252,187,161)\"], [0.375, \"rgb(252,146,114)\"], [0.5, \"rgb(251,106,74)\"], [0.625, \"rgb(239,59,44)\"], [0.75, \"rgb(203,24,29)\"], [0.875, \"rgb(165,15,21)\"], [1.0, \"rgb(103,0,13)\"]], \"locationmode\": \"country names\", \"locations\": [\"Azerbaijan\", \"Congo (Brazzaville)\", \"Qatar\", \"Bahamas\", \"New Zealand\", \"Egypt\", \"Kosovo\", \"Italy\", \"Ivory Coast\", \"Bhutan\", \"Guyana\", \"Dominican Republic\", \"Andorra\", \"Guinea\", \"Gambia\", \"Mali\", \"Ireland\", \"Timor-Leste\", \"Benin\", \"Djibouti\", \"Oman\", \"Libya\", \"Haiti\", \"Congo (Kinshasa)\", \"Israel\", \"Liechtenstein\", \"Colombia\", \"Venezuela\", \"Rwanda\", \"Tanzania\", \"Chile\", \"Georgia\", \"Botswana\", \"Bangladesh\", \"Bosnia and Herzegovina\", \"Algeria\", \"Uruguay\", \"South Sudan\", \"South Korea\", \"Ethiopia\", \"San Marino\", \"Monaco\", \"Guinea-Bissau\", \"Armenia\", \"Thailand\", \"Latvia\", \"Czech Republic\", \"Liberia\", \"Bolivia\", \"South Africa\", \"Turkey\", \"Belize\", \"Trinidad and Tobago\", \"India\", \"Serbia\", \"Japan\", \"Belarus\", \"Saint Vincent and the Grenadines\", \"Ecuador\", \"Romania\", \"Uzbekistan\", \"Panama\", \"Malaysia\", \"Suriname\", \"Slovenia\", \"Croatia\", \"Pakistan\", \"Cuba\", \"France\", \"Niger\", \"Argentina\", \"Tunisia\", \"Malawi\", \"Fiji\", \"Madagascar\", \"Kuwait\", \"Mainland China\", \"Honduras\", \"Angola\", \"Seychelles\", \"Gabon\", \"Belgium\", \"Slovakia\", \"Nicaragua\", \"Russia\", \"Holy See\", \"Hong Kong\", \"Indonesia\", \"Papua New Guinea\", \"Mauritania\", \"Senegal\", \"Maldives\", \"Costa Rica\", \"Mexico\", \"Bahrain\", \"Togo\", \"Somalia\", \"Cyprus\", \"Antigua and Barbuda\", \"Singapore\", \"Barbados\", \"Iran\", \"Switzerland\", \"Germany\", \"Sri Lanka\", \"Uganda\", \"Saudi Arabia\", \"Syria\", \"Saint Lucia\", \"Eritrea\", \"Grenada\", \"Cabo Verde\", \"Denmark\", \"Sierra Leone\", \"Afghanistan\", \"Burundi\", \"US\", \"Burma\", \"Morocco\", \"Kyrgyzstan\", \"Netherlands\", \"Canada\", \"Eswatini\", \"Spain\", \"Montenegro\", \"Dominica\", \"Norway\", \"Sudan\", \"Zimbabwe\", \"Luxembourg\", \"North Macedonia\", \"Cambodia\", \"Iceland\", \"Diamond Princess\", \"Philippines\", \"Kazakhstan\", \"Nepal\", \"Ukraine\", \"Iraq\", \"Cameroon\", \"Ghana\", \"Sweden\", \"Estonia\", \"Zambia\", \"Macau\", \"Australia\", \"Greece\", \"Peru\", \"Laos\", \"Jordan\", \"Burkina Faso\", \"Albania\", \"Western Sahara\", \"Hungary\", \"Chad\", \"MS Zaandam\", \"Lebanon\", \"Brunei\", \"Nigeria\", \"Vietnam\", \"Austria\", \"Poland\", \"Brazil\", \"West Bank and Gaza\", \"Mozambique\", \"Saint Kitts and Nevis\", \"Paraguay\", \"Kenya\", \"Namibia\", \"Mauritius\", \"Mongolia\", \"Moldova\", \"Jamaica\", \"Taiwan\", \"Portugal\", \"Lithuania\", \"Bulgaria\", \"Central African Republic\", \"Guatemala\", \"El Salvador\", \"UK\", \"Equatorial Guinea\", \"Malta\", \"United Arab Emirates\", \"Finland\", \"Others\", \"Martinique\", \"Mayotte\", \"Reunion\", \"Gambia, The\", \"French Guiana\", \"Guadeloupe\", \"East Timor\", \"Bahamas, The\", \"Cape Verde\", \"Aruba\", \"Cayman Islands\", \"Curacao\", \"Faroe Islands\", \"Channel Islands\", \"Saint Barthelemy\", \"Gibraltar\", \"('St. Martin',)\", \"St. Martin\", \"Palestine\", \"Vatican City\", \"Republic of Ireland\", \" Azerbaijan\", \"North Ireland\"], \"marker\": {\"line\": {\"color\": \"black\", \"width\": 0.5}}, \"type\": \"choropleth\", \"z\": [584.0, 45.0, 1604.0, 28.0, 1039.0, 1173.0, 145.0, 128948.0, 261.0, 5.0, 24.0, 1745.0, 501.0, 121.0, 4.0, 45.0, 4994.0, 1.0, 22.0, 59.0, 298.0, 18.0, 21.0, 154.0, 8430.0, 77.0, 1485.0, 159.0, 104.0, 22.0, 4471.0, 174.0, 6.0, 88.0, 654.0, 1320.0, 400.0, 1.0, 10237.0, 43.0, 266.0, 73.0, 18.0, 822.0, 2169.0, 533.0, 4587.0, 13.0, 157.0, 1655.0, 27069.0, 5.0, 104.0, 3588.0, 1908.0, 3139.0, 562.0, 7.0, 3646.0, 3864.0, 342.0, 1801.0, 3662.0, 10.0, 997.0, 1182.0, 3157.0, 320.0, 93773.0, 184.0, 1451.0, 574.0, 4.0, 12.0, 72.0, 556.0, 81668.0, 268.0, 14.0, 10.0, 21.0, 19691.0, 485.0, 6.0, 5389.0, 7.0, 890.0, 2273.0, 1.0, 6.0, 222.0, 19.0, 454.0, 1890.0, 700.0, 44.0, 7.0, 446.0, 15.0, 1309.0, 56.0, 58226.0, 21100.0, 100123.0, 176.0, 52.0, 2402.0, 19.0, 14.0, 29.0, 12.0, 7.0, 4561.0, 6.0, 349.0, 3.0, 337072.0, 21.0, 1021.0, 147.0, 17953.0, 15756.0, 9.0, 131646.0, 214.0, 14.0, 5687.0, 12.0, 9.0, 2804.0, 555.0, 114.0, 1486.0, 712.0, 3246.0, 584.0, 9.0, 1308.0, 961.0, 650.0, 214.0, 6830.0, 1097.0, 39.0, 44.0, 5687.0, 1735.0, 2281.0, 11.0, 345.0, 345.0, 361.0, 4.0, 733.0, 9.0, 9.0, 527.0, 135.0, 232.0, 241.0, 12051.0, 4102.0, 11130.0, 237.0, 10.0, 10.0, 104.0, 142.0, 16.0, 227.0, 14.0, 864.0, 58.0, 363.0, 11278.0, 811.0, 531.0, 8.0, 61.0, 62.0, 48436.0, 16.0, 227.0, 1799.0, 1927.0, 712.0, 32.0, 7.0, 45.0, 1.0, 18.0, 53.0, 1.0, 4.0, 1.0, 4.0, 1.0, 1.0, 2.0, 1.0, 1.0, 1.0, 2.0, 2.0, 22.0, 1.0, 21.0, 1.0, 1.0]}],\n                        {\"geo\": {\"projection\": {\"type\": \"equirectangular\"}, \"showcoastlines\": false, \"showframe\": false}, \"template\": {\"data\": {\"bar\": [{\"error_x\": {\"color\": \"#2a3f5f\"}, \"error_y\": {\"color\": \"#2a3f5f\"}, \"marker\": {\"line\": {\"color\": \"#E5ECF6\", \"width\": 0.5}}, \"type\": \"bar\"}], \"barpolar\": [{\"marker\": {\"line\": {\"color\": \"#E5ECF6\", \"width\": 0.5}}, \"type\": \"barpolar\"}], \"carpet\": [{\"aaxis\": {\"endlinecolor\": \"#2a3f5f\", \"gridcolor\": \"white\", \"linecolor\": \"white\", \"minorgridcolor\": \"white\", \"startlinecolor\": \"#2a3f5f\"}, \"baxis\": {\"endlinecolor\": \"#2a3f5f\", \"gridcolor\": \"white\", \"linecolor\": \"white\", \"minorgridcolor\": \"white\", \"startlinecolor\": \"#2a3f5f\"}, \"type\": \"carpet\"}], \"choropleth\": [{\"colorbar\": {\"outlinewidth\": 0, \"ticks\": \"\"}, \"type\": \"choropleth\"}], \"contour\": [{\"colorbar\": {\"outlinewidth\": 0, \"ticks\": \"\"}, \"colorscale\": [[0.0, \"#0d0887\"], [0.1111111111111111, \"#46039f\"], [0.2222222222222222, \"#7201a8\"], [0.3333333333333333, \"#9c179e\"], [0.4444444444444444, \"#bd3786\"], [0.5555555555555556, \"#d8576b\"], [0.6666666666666666, \"#ed7953\"], [0.7777777777777778, \"#fb9f3a\"], [0.8888888888888888, \"#fdca26\"], [1.0, \"#f0f921\"]], \"type\": \"contour\"}], \"contourcarpet\": [{\"colorbar\": {\"outlinewidth\": 0, \"ticks\": \"\"}, \"type\": \"contourcarpet\"}], \"heatmap\": [{\"colorbar\": {\"outlinewidth\": 0, \"ticks\": \"\"}, \"colorscale\": [[0.0, \"#0d0887\"], [0.1111111111111111, \"#46039f\"], [0.2222222222222222, \"#7201a8\"], [0.3333333333333333, \"#9c179e\"], [0.4444444444444444, \"#bd3786\"], [0.5555555555555556, \"#d8576b\"], [0.6666666666666666, \"#ed7953\"], [0.7777777777777778, \"#fb9f3a\"], [0.8888888888888888, \"#fdca26\"], [1.0, \"#f0f921\"]], \"type\": \"heatmap\"}], \"heatmapgl\": [{\"colorbar\": {\"outlinewidth\": 0, \"ticks\": \"\"}, \"colorscale\": [[0.0, \"#0d0887\"], [0.1111111111111111, \"#46039f\"], [0.2222222222222222, \"#7201a8\"], [0.3333333333333333, \"#9c179e\"], [0.4444444444444444, \"#bd3786\"], [0.5555555555555556, \"#d8576b\"], [0.6666666666666666, \"#ed7953\"], [0.7777777777777778, \"#fb9f3a\"], [0.8888888888888888, \"#fdca26\"], [1.0, \"#f0f921\"]], \"type\": \"heatmapgl\"}], \"histogram\": [{\"marker\": {\"colorbar\": {\"outlinewidth\": 0, \"ticks\": \"\"}}, \"type\": \"histogram\"}], \"histogram2d\": [{\"colorbar\": {\"outlinewidth\": 0, \"ticks\": \"\"}, \"colorscale\": [[0.0, \"#0d0887\"], [0.1111111111111111, \"#46039f\"], [0.2222222222222222, \"#7201a8\"], [0.3333333333333333, \"#9c179e\"], [0.4444444444444444, \"#bd3786\"], [0.5555555555555556, \"#d8576b\"], [0.6666666666666666, \"#ed7953\"], [0.7777777777777778, \"#fb9f3a\"], [0.8888888888888888, \"#fdca26\"], [1.0, \"#f0f921\"]], \"type\": \"histogram2d\"}], \"histogram2dcontour\": [{\"colorbar\": {\"outlinewidth\": 0, \"ticks\": \"\"}, \"colorscale\": [[0.0, \"#0d0887\"], [0.1111111111111111, \"#46039f\"], [0.2222222222222222, \"#7201a8\"], [0.3333333333333333, \"#9c179e\"], [0.4444444444444444, \"#bd3786\"], [0.5555555555555556, \"#d8576b\"], [0.6666666666666666, \"#ed7953\"], [0.7777777777777778, \"#fb9f3a\"], [0.8888888888888888, \"#fdca26\"], [1.0, \"#f0f921\"]], \"type\": \"histogram2dcontour\"}], \"mesh3d\": [{\"colorbar\": {\"outlinewidth\": 0, \"ticks\": \"\"}, \"type\": \"mesh3d\"}], \"parcoords\": [{\"line\": {\"colorbar\": {\"outlinewidth\": 0, \"ticks\": \"\"}}, \"type\": \"parcoords\"}], \"scatter\": [{\"marker\": {\"colorbar\": {\"outlinewidth\": 0, \"ticks\": \"\"}}, \"type\": \"scatter\"}], \"scatter3d\": [{\"line\": {\"colorbar\": {\"outlinewidth\": 0, \"ticks\": \"\"}}, \"marker\": {\"colorbar\": {\"outlinewidth\": 0, \"ticks\": \"\"}}, \"type\": \"scatter3d\"}], \"scattercarpet\": [{\"marker\": {\"colorbar\": {\"outlinewidth\": 0, \"ticks\": \"\"}}, \"type\": \"scattercarpet\"}], \"scattergeo\": [{\"marker\": {\"colorbar\": {\"outlinewidth\": 0, \"ticks\": \"\"}}, \"type\": \"scattergeo\"}], \"scattergl\": [{\"marker\": {\"colorbar\": {\"outlinewidth\": 0, \"ticks\": \"\"}}, \"type\": \"scattergl\"}], \"scattermapbox\": [{\"marker\": {\"colorbar\": {\"outlinewidth\": 0, \"ticks\": \"\"}}, \"type\": \"scattermapbox\"}], \"scatterpolar\": [{\"marker\": {\"colorbar\": {\"outlinewidth\": 0, \"ticks\": \"\"}}, \"type\": \"scatterpolar\"}], \"scatterpolargl\": [{\"marker\": {\"colorbar\": {\"outlinewidth\": 0, \"ticks\": \"\"}}, \"type\": \"scatterpolargl\"}], \"scatterternary\": [{\"marker\": {\"colorbar\": {\"outlinewidth\": 0, \"ticks\": \"\"}}, \"type\": \"scatterternary\"}], \"surface\": [{\"colorbar\": {\"outlinewidth\": 0, \"ticks\": \"\"}, \"colorscale\": [[0.0, \"#0d0887\"], [0.1111111111111111, \"#46039f\"], [0.2222222222222222, \"#7201a8\"], [0.3333333333333333, \"#9c179e\"], [0.4444444444444444, \"#bd3786\"], [0.5555555555555556, \"#d8576b\"], [0.6666666666666666, \"#ed7953\"], [0.7777777777777778, \"#fb9f3a\"], [0.8888888888888888, \"#fdca26\"], [1.0, \"#f0f921\"]], \"type\": \"surface\"}], \"table\": [{\"cells\": {\"fill\": {\"color\": \"#EBF0F8\"}, \"line\": {\"color\": \"white\"}}, \"header\": {\"fill\": {\"color\": \"#C8D4E3\"}, \"line\": {\"color\": \"white\"}}, \"type\": \"table\"}]}, \"layout\": {\"annotationdefaults\": {\"arrowcolor\": \"#2a3f5f\", \"arrowhead\": 0, \"arrowwidth\": 1}, \"colorscale\": {\"diverging\": [[0, \"#8e0152\"], [0.1, \"#c51b7d\"], [0.2, \"#de77ae\"], [0.3, \"#f1b6da\"], [0.4, \"#fde0ef\"], [0.5, \"#f7f7f7\"], [0.6, \"#e6f5d0\"], [0.7, \"#b8e186\"], [0.8, \"#7fbc41\"], [0.9, \"#4d9221\"], [1, \"#276419\"]], \"sequential\": [[0.0, \"#0d0887\"], [0.1111111111111111, \"#46039f\"], [0.2222222222222222, \"#7201a8\"], [0.3333333333333333, \"#9c179e\"], [0.4444444444444444, \"#bd3786\"], [0.5555555555555556, \"#d8576b\"], [0.6666666666666666, \"#ed7953\"], [0.7777777777777778, \"#fb9f3a\"], [0.8888888888888888, \"#fdca26\"], [1.0, \"#f0f921\"]], \"sequentialminus\": [[0.0, \"#0d0887\"], [0.1111111111111111, \"#46039f\"], [0.2222222222222222, \"#7201a8\"], [0.3333333333333333, \"#9c179e\"], [0.4444444444444444, \"#bd3786\"], [0.5555555555555556, \"#d8576b\"], [0.6666666666666666, \"#ed7953\"], [0.7777777777777778, \"#fb9f3a\"], [0.8888888888888888, \"#fdca26\"], [1.0, \"#f0f921\"]]}, \"colorway\": [\"#636efa\", \"#EF553B\", \"#00cc96\", \"#ab63fa\", \"#FFA15A\", \"#19d3f3\", \"#FF6692\", \"#B6E880\", \"#FF97FF\", \"#FECB52\"], \"font\": {\"color\": \"#2a3f5f\"}, \"geo\": {\"bgcolor\": \"white\", \"lakecolor\": \"white\", \"landcolor\": \"#E5ECF6\", \"showlakes\": true, \"showland\": true, \"subunitcolor\": \"white\"}, \"hoverlabel\": {\"align\": \"left\"}, \"hovermode\": \"closest\", \"mapbox\": {\"style\": \"light\"}, \"paper_bgcolor\": \"white\", \"plot_bgcolor\": \"#E5ECF6\", \"polar\": {\"angularaxis\": {\"gridcolor\": \"white\", \"linecolor\": \"white\", \"ticks\": \"\"}, \"bgcolor\": \"#E5ECF6\", \"radialaxis\": {\"gridcolor\": \"white\", \"linecolor\": \"white\", \"ticks\": \"\"}}, \"scene\": {\"xaxis\": {\"backgroundcolor\": \"#E5ECF6\", \"gridcolor\": \"white\", \"gridwidth\": 2, \"linecolor\": \"white\", \"showbackground\": true, \"ticks\": \"\", \"zerolinecolor\": \"white\"}, \"yaxis\": {\"backgroundcolor\": \"#E5ECF6\", \"gridcolor\": \"white\", \"gridwidth\": 2, \"linecolor\": \"white\", \"showbackground\": true, \"ticks\": \"\", \"zerolinecolor\": \"white\"}, \"zaxis\": {\"backgroundcolor\": \"#E5ECF6\", \"gridcolor\": \"white\", \"gridwidth\": 2, \"linecolor\": \"white\", \"showbackground\": true, \"ticks\": \"\", \"zerolinecolor\": \"white\"}}, \"shapedefaults\": {\"line\": {\"color\": \"#2a3f5f\"}}, \"ternary\": {\"aaxis\": {\"gridcolor\": \"white\", \"linecolor\": \"white\", \"ticks\": \"\"}, \"baxis\": {\"gridcolor\": \"white\", \"linecolor\": \"white\", \"ticks\": \"\"}, \"bgcolor\": \"#E5ECF6\", \"caxis\": {\"gridcolor\": \"white\", \"linecolor\": \"white\", \"ticks\": \"\"}}, \"title\": {\"x\": 0.05}, \"xaxis\": {\"automargin\": true, \"gridcolor\": \"white\", \"linecolor\": \"white\", \"ticks\": \"\", \"zerolinecolor\": \"white\", \"zerolinewidth\": 2}, \"yaxis\": {\"automargin\": true, \"gridcolor\": \"white\", \"linecolor\": \"white\", \"ticks\": \"\", \"zerolinecolor\": \"white\", \"zerolinewidth\": 2}}}, \"title\": {\"text\": \"Confirmed Cases as of March 28, 2020\", \"x\": 0.5}},\n                        {\"responsive\": true}\n                    ).then(function(){\n                            \nvar gd = document.getElementById('5c757bf9-3b85-4d91-9b4f-f6a1316dac4b');\nvar x = new MutationObserver(function (mutations, observer) {{\n        var display = window.getComputedStyle(gd).display;\n        if (!display || display === 'none') {{\n            console.log([gd, 'removed!']);\n            Plotly.purge(gd);\n            observer.disconnect();\n        }}\n}});\n\n// Listen for the removal of the full notebook cells\nvar notebookContainer = gd.closest('#notebook-container');\nif (notebookContainer) {{\n    x.observe(notebookContainer, {childList: true});\n}}\n\n// Listen for the clearing of the current output cell\nvar outputEl = gd.closest('.output');\nif (outputEl) {{\n    x.observe(outputEl, {childList: true});\n}}\n\n                        })\n                };\n                });\n            </script>\n        </div>",
            "application/vnd.plotly.v1+json": {
              "data": [
                {
                  "colorscale": [
                    [
                      0,
                      "rgb(255,245,240)"
                    ],
                    [
                      0.125,
                      "rgb(254,224,210)"
                    ],
                    [
                      0.25,
                      "rgb(252,187,161)"
                    ],
                    [
                      0.375,
                      "rgb(252,146,114)"
                    ],
                    [
                      0.5,
                      "rgb(251,106,74)"
                    ],
                    [
                      0.625,
                      "rgb(239,59,44)"
                    ],
                    [
                      0.75,
                      "rgb(203,24,29)"
                    ],
                    [
                      0.875,
                      "rgb(165,15,21)"
                    ],
                    [
                      1,
                      "rgb(103,0,13)"
                    ]
                  ],
                  "locationmode": "country names",
                  "locations": [
                    "Azerbaijan",
                    "Congo (Brazzaville)",
                    "Qatar",
                    "Bahamas",
                    "New Zealand",
                    "Egypt",
                    "Kosovo",
                    "Italy",
                    "Ivory Coast",
                    "Bhutan",
                    "Guyana",
                    "Dominican Republic",
                    "Andorra",
                    "Guinea",
                    "Gambia",
                    "Mali",
                    "Ireland",
                    "Timor-Leste",
                    "Benin",
                    "Djibouti",
                    "Oman",
                    "Libya",
                    "Haiti",
                    "Congo (Kinshasa)",
                    "Israel",
                    "Liechtenstein",
                    "Colombia",
                    "Venezuela",
                    "Rwanda",
                    "Tanzania",
                    "Chile",
                    "Georgia",
                    "Botswana",
                    "Bangladesh",
                    "Bosnia and Herzegovina",
                    "Algeria",
                    "Uruguay",
                    "South Sudan",
                    "South Korea",
                    "Ethiopia",
                    "San Marino",
                    "Monaco",
                    "Guinea-Bissau",
                    "Armenia",
                    "Thailand",
                    "Latvia",
                    "Czech Republic",
                    "Liberia",
                    "Bolivia",
                    "South Africa",
                    "Turkey",
                    "Belize",
                    "Trinidad and Tobago",
                    "India",
                    "Serbia",
                    "Japan",
                    "Belarus",
                    "Saint Vincent and the Grenadines",
                    "Ecuador",
                    "Romania",
                    "Uzbekistan",
                    "Panama",
                    "Malaysia",
                    "Suriname",
                    "Slovenia",
                    "Croatia",
                    "Pakistan",
                    "Cuba",
                    "France",
                    "Niger",
                    "Argentina",
                    "Tunisia",
                    "Malawi",
                    "Fiji",
                    "Madagascar",
                    "Kuwait",
                    "Mainland China",
                    "Honduras",
                    "Angola",
                    "Seychelles",
                    "Gabon",
                    "Belgium",
                    "Slovakia",
                    "Nicaragua",
                    "Russia",
                    "Holy See",
                    "Hong Kong",
                    "Indonesia",
                    "Papua New Guinea",
                    "Mauritania",
                    "Senegal",
                    "Maldives",
                    "Costa Rica",
                    "Mexico",
                    "Bahrain",
                    "Togo",
                    "Somalia",
                    "Cyprus",
                    "Antigua and Barbuda",
                    "Singapore",
                    "Barbados",
                    "Iran",
                    "Switzerland",
                    "Germany",
                    "Sri Lanka",
                    "Uganda",
                    "Saudi Arabia",
                    "Syria",
                    "Saint Lucia",
                    "Eritrea",
                    "Grenada",
                    "Cabo Verde",
                    "Denmark",
                    "Sierra Leone",
                    "Afghanistan",
                    "Burundi",
                    "US",
                    "Burma",
                    "Morocco",
                    "Kyrgyzstan",
                    "Netherlands",
                    "Canada",
                    "Eswatini",
                    "Spain",
                    "Montenegro",
                    "Dominica",
                    "Norway",
                    "Sudan",
                    "Zimbabwe",
                    "Luxembourg",
                    "North Macedonia",
                    "Cambodia",
                    "Iceland",
                    "Diamond Princess",
                    "Philippines",
                    "Kazakhstan",
                    "Nepal",
                    "Ukraine",
                    "Iraq",
                    "Cameroon",
                    "Ghana",
                    "Sweden",
                    "Estonia",
                    "Zambia",
                    "Macau",
                    "Australia",
                    "Greece",
                    "Peru",
                    "Laos",
                    "Jordan",
                    "Burkina Faso",
                    "Albania",
                    "Western Sahara",
                    "Hungary",
                    "Chad",
                    "MS Zaandam",
                    "Lebanon",
                    "Brunei",
                    "Nigeria",
                    "Vietnam",
                    "Austria",
                    "Poland",
                    "Brazil",
                    "West Bank and Gaza",
                    "Mozambique",
                    "Saint Kitts and Nevis",
                    "Paraguay",
                    "Kenya",
                    "Namibia",
                    "Mauritius",
                    "Mongolia",
                    "Moldova",
                    "Jamaica",
                    "Taiwan",
                    "Portugal",
                    "Lithuania",
                    "Bulgaria",
                    "Central African Republic",
                    "Guatemala",
                    "El Salvador",
                    "UK",
                    "Equatorial Guinea",
                    "Malta",
                    "United Arab Emirates",
                    "Finland",
                    "Others",
                    "Martinique",
                    "Mayotte",
                    "Reunion",
                    "Gambia, The",
                    "French Guiana",
                    "Guadeloupe",
                    "East Timor",
                    "Bahamas, The",
                    "Cape Verde",
                    "Aruba",
                    "Cayman Islands",
                    "Curacao",
                    "Faroe Islands",
                    "Channel Islands",
                    "Saint Barthelemy",
                    "Gibraltar",
                    "('St. Martin',)",
                    "St. Martin",
                    "Palestine",
                    "Vatican City",
                    "Republic of Ireland",
                    " Azerbaijan",
                    "North Ireland"
                  ],
                  "marker": {
                    "line": {
                      "color": "black",
                      "width": 0.5
                    }
                  },
                  "z": [
                    584,
                    45,
                    1604,
                    28,
                    1039,
                    1173,
                    145,
                    128948,
                    261,
                    5,
                    24,
                    1745,
                    501,
                    121,
                    4,
                    45,
                    4994,
                    1,
                    22,
                    59,
                    298,
                    18,
                    21,
                    154,
                    8430,
                    77,
                    1485,
                    159,
                    104,
                    22,
                    4471,
                    174,
                    6,
                    88,
                    654,
                    1320,
                    400,
                    1,
                    10237,
                    43,
                    266,
                    73,
                    18,
                    822,
                    2169,
                    533,
                    4587,
                    13,
                    157,
                    1655,
                    27069,
                    5,
                    104,
                    3588,
                    1908,
                    3139,
                    562,
                    7,
                    3646,
                    3864,
                    342,
                    1801,
                    3662,
                    10,
                    997,
                    1182,
                    3157,
                    320,
                    93773,
                    184,
                    1451,
                    574,
                    4,
                    12,
                    72,
                    556,
                    81668,
                    268,
                    14,
                    10,
                    21,
                    19691,
                    485,
                    6,
                    5389,
                    7,
                    890,
                    2273,
                    1,
                    6,
                    222,
                    19,
                    454,
                    1890,
                    700,
                    44,
                    7,
                    446,
                    15,
                    1309,
                    56,
                    58226,
                    21100,
                    100123,
                    176,
                    52,
                    2402,
                    19,
                    14,
                    29,
                    12,
                    7,
                    4561,
                    6,
                    349,
                    3,
                    337072,
                    21,
                    1021,
                    147,
                    17953,
                    15756,
                    9,
                    131646,
                    214,
                    14,
                    5687,
                    12,
                    9,
                    2804,
                    555,
                    114,
                    1486,
                    712,
                    3246,
                    584,
                    9,
                    1308,
                    961,
                    650,
                    214,
                    6830,
                    1097,
                    39,
                    44,
                    5687,
                    1735,
                    2281,
                    11,
                    345,
                    345,
                    361,
                    4,
                    733,
                    9,
                    9,
                    527,
                    135,
                    232,
                    241,
                    12051,
                    4102,
                    11130,
                    237,
                    10,
                    10,
                    104,
                    142,
                    16,
                    227,
                    14,
                    864,
                    58,
                    363,
                    11278,
                    811,
                    531,
                    8,
                    61,
                    62,
                    48436,
                    16,
                    227,
                    1799,
                    1927,
                    712,
                    32,
                    7,
                    45,
                    1,
                    18,
                    53,
                    1,
                    4,
                    1,
                    4,
                    1,
                    1,
                    2,
                    1,
                    1,
                    1,
                    2,
                    2,
                    22,
                    1,
                    21,
                    1,
                    1
                  ],
                  "type": "choropleth"
                }
              ],
              "config": {
                "plotlyServerURL": "https://plot.ly"
              },
              "layout": {
                "geo": {
                  "projection": {
                    "type": "equirectangular"
                  },
                  "showcoastlines": false,
                  "showframe": false
                },
                "template": {
                  "layout": {
                    "shapedefaults": {
                      "line": {
                        "color": "#2a3f5f"
                      }
                    },
                    "polar": {
                      "radialaxis": {
                        "ticks": "",
                        "gridcolor": "white",
                        "linecolor": "white"
                      },
                      "bgcolor": "#E5ECF6",
                      "angularaxis": {
                        "ticks": "",
                        "gridcolor": "white",
                        "linecolor": "white"
                      }
                    },
                    "colorway": [
                      "#636efa",
                      "#EF553B",
                      "#00cc96",
                      "#ab63fa",
                      "#FFA15A",
                      "#19d3f3",
                      "#FF6692",
                      "#B6E880",
                      "#FF97FF",
                      "#FECB52"
                    ],
                    "xaxis": {
                      "automargin": true,
                      "zerolinewidth": 2,
                      "ticks": "",
                      "zerolinecolor": "white",
                      "gridcolor": "white",
                      "linecolor": "white"
                    },
                    "colorscale": {
                      "diverging": [
                        [
                          0,
                          "#8e0152"
                        ],
                        [
                          0.1,
                          "#c51b7d"
                        ],
                        [
                          0.2,
                          "#de77ae"
                        ],
                        [
                          0.3,
                          "#f1b6da"
                        ],
                        [
                          0.4,
                          "#fde0ef"
                        ],
                        [
                          0.5,
                          "#f7f7f7"
                        ],
                        [
                          0.6,
                          "#e6f5d0"
                        ],
                        [
                          0.7,
                          "#b8e186"
                        ],
                        [
                          0.8,
                          "#7fbc41"
                        ],
                        [
                          0.9,
                          "#4d9221"
                        ],
                        [
                          1,
                          "#276419"
                        ]
                      ],
                      "sequential": [
                        [
                          0,
                          "#0d0887"
                        ],
                        [
                          0.1111111111111111,
                          "#46039f"
                        ],
                        [
                          0.22222222222222221,
                          "#7201a8"
                        ],
                        [
                          0.33333333333333331,
                          "#9c179e"
                        ],
                        [
                          0.44444444444444442,
                          "#bd3786"
                        ],
                        [
                          0.55555555555555558,
                          "#d8576b"
                        ],
                        [
                          0.66666666666666663,
                          "#ed7953"
                        ],
                        [
                          0.77777777777777779,
                          "#fb9f3a"
                        ],
                        [
                          0.88888888888888884,
                          "#fdca26"
                        ],
                        [
                          1,
                          "#f0f921"
                        ]
                      ],
                      "sequentialminus": [
                        [
                          0,
                          "#0d0887"
                        ],
                        [
                          0.1111111111111111,
                          "#46039f"
                        ],
                        [
                          0.22222222222222221,
                          "#7201a8"
                        ],
                        [
                          0.33333333333333331,
                          "#9c179e"
                        ],
                        [
                          0.44444444444444442,
                          "#bd3786"
                        ],
                        [
                          0.55555555555555558,
                          "#d8576b"
                        ],
                        [
                          0.66666666666666663,
                          "#ed7953"
                        ],
                        [
                          0.77777777777777779,
                          "#fb9f3a"
                        ],
                        [
                          0.88888888888888884,
                          "#fdca26"
                        ],
                        [
                          1,
                          "#f0f921"
                        ]
                      ]
                    },
                    "paper_bgcolor": "white",
                    "plot_bgcolor": "#E5ECF6",
                    "title": {
                      "x": 0.05
                    },
                    "scene": {
                      "zaxis": {
                        "backgroundcolor": "#E5ECF6",
                        "ticks": "",
                        "gridwidth": 2,
                        "showbackground": true,
                        "zerolinecolor": "white",
                        "gridcolor": "white",
                        "linecolor": "white"
                      },
                      "xaxis": {
                        "backgroundcolor": "#E5ECF6",
                        "ticks": "",
                        "gridwidth": 2,
                        "showbackground": true,
                        "zerolinecolor": "white",
                        "gridcolor": "white",
                        "linecolor": "white"
                      },
                      "yaxis": {
                        "backgroundcolor": "#E5ECF6",
                        "ticks": "",
                        "gridwidth": 2,
                        "showbackground": true,
                        "zerolinecolor": "white",
                        "gridcolor": "white",
                        "linecolor": "white"
                      }
                    },
                    "yaxis": {
                      "automargin": true,
                      "zerolinewidth": 2,
                      "ticks": "",
                      "zerolinecolor": "white",
                      "gridcolor": "white",
                      "linecolor": "white"
                    },
                    "hoverlabel": {
                      "align": "left"
                    },
                    "ternary": {
                      "bgcolor": "#E5ECF6",
                      "baxis": {
                        "ticks": "",
                        "gridcolor": "white",
                        "linecolor": "white"
                      },
                      "caxis": {
                        "ticks": "",
                        "gridcolor": "white",
                        "linecolor": "white"
                      },
                      "aaxis": {
                        "ticks": "",
                        "gridcolor": "white",
                        "linecolor": "white"
                      }
                    },
                    "mapbox": {
                      "style": "light"
                    },
                    "hovermode": "closest",
                    "font": {
                      "color": "#2a3f5f"
                    },
                    "geo": {
                      "showland": true,
                      "landcolor": "#E5ECF6",
                      "showlakes": true,
                      "bgcolor": "white",
                      "subunitcolor": "white",
                      "lakecolor": "white"
                    },
                    "annotationdefaults": {
                      "arrowwidth": 1,
                      "arrowhead": 0,
                      "arrowcolor": "#2a3f5f"
                    }
                  },
                  "data": {
                    "mesh3d": [
                      {
                        "colorbar": {
                          "outlinewidth": 0,
                          "ticks": ""
                        },
                        "type": "mesh3d"
                      }
                    ],
                    "scattercarpet": [
                      {
                        "marker": {
                          "colorbar": {
                            "outlinewidth": 0,
                            "ticks": ""
                          }
                        },
                        "type": "scattercarpet"
                      }
                    ],
                    "scatterternary": [
                      {
                        "marker": {
                          "colorbar": {
                            "outlinewidth": 0,
                            "ticks": ""
                          }
                        },
                        "type": "scatterternary"
                      }
                    ],
                    "surface": [
                      {
                        "colorbar": {
                          "outlinewidth": 0,
                          "ticks": ""
                        },
                        "type": "surface",
                        "colorscale": [
                          [
                            0,
                            "#0d0887"
                          ],
                          [
                            0.1111111111111111,
                            "#46039f"
                          ],
                          [
                            0.22222222222222221,
                            "#7201a8"
                          ],
                          [
                            0.33333333333333331,
                            "#9c179e"
                          ],
                          [
                            0.44444444444444442,
                            "#bd3786"
                          ],
                          [
                            0.55555555555555558,
                            "#d8576b"
                          ],
                          [
                            0.66666666666666663,
                            "#ed7953"
                          ],
                          [
                            0.77777777777777779,
                            "#fb9f3a"
                          ],
                          [
                            0.88888888888888884,
                            "#fdca26"
                          ],
                          [
                            1,
                            "#f0f921"
                          ]
                        ]
                      }
                    ],
                    "table": [
                      {
                        "header": {
                          "line": {
                            "color": "white"
                          },
                          "fill": {
                            "color": "#C8D4E3"
                          }
                        },
                        "cells": {
                          "line": {
                            "color": "white"
                          },
                          "fill": {
                            "color": "#EBF0F8"
                          }
                        },
                        "type": "table"
                      }
                    ],
                    "scatterpolargl": [
                      {
                        "marker": {
                          "colorbar": {
                            "outlinewidth": 0,
                            "ticks": ""
                          }
                        },
                        "type": "scatterpolargl"
                      }
                    ],
                    "contour": [
                      {
                        "colorbar": {
                          "outlinewidth": 0,
                          "ticks": ""
                        },
                        "type": "contour",
                        "colorscale": [
                          [
                            0,
                            "#0d0887"
                          ],
                          [
                            0.1111111111111111,
                            "#46039f"
                          ],
                          [
                            0.22222222222222221,
                            "#7201a8"
                          ],
                          [
                            0.33333333333333331,
                            "#9c179e"
                          ],
                          [
                            0.44444444444444442,
                            "#bd3786"
                          ],
                          [
                            0.55555555555555558,
                            "#d8576b"
                          ],
                          [
                            0.66666666666666663,
                            "#ed7953"
                          ],
                          [
                            0.77777777777777779,
                            "#fb9f3a"
                          ],
                          [
                            0.88888888888888884,
                            "#fdca26"
                          ],
                          [
                            1,
                            "#f0f921"
                          ]
                        ]
                      }
                    ],
                    "carpet": [
                      {
                        "type": "carpet",
                        "baxis": {
                          "minorgridcolor": "white",
                          "gridcolor": "white",
                          "linecolor": "white",
                          "endlinecolor": "#2a3f5f",
                          "startlinecolor": "#2a3f5f"
                        },
                        "aaxis": {
                          "minorgridcolor": "white",
                          "gridcolor": "white",
                          "linecolor": "white",
                          "endlinecolor": "#2a3f5f",
                          "startlinecolor": "#2a3f5f"
                        }
                      }
                    ],
                    "contourcarpet": [
                      {
                        "colorbar": {
                          "outlinewidth": 0,
                          "ticks": ""
                        },
                        "type": "contourcarpet"
                      }
                    ],
                    "heatmap": [
                      {
                        "colorbar": {
                          "outlinewidth": 0,
                          "ticks": ""
                        },
                        "type": "heatmap",
                        "colorscale": [
                          [
                            0,
                            "#0d0887"
                          ],
                          [
                            0.1111111111111111,
                            "#46039f"
                          ],
                          [
                            0.22222222222222221,
                            "#7201a8"
                          ],
                          [
                            0.33333333333333331,
                            "#9c179e"
                          ],
                          [
                            0.44444444444444442,
                            "#bd3786"
                          ],
                          [
                            0.55555555555555558,
                            "#d8576b"
                          ],
                          [
                            0.66666666666666663,
                            "#ed7953"
                          ],
                          [
                            0.77777777777777779,
                            "#fb9f3a"
                          ],
                          [
                            0.88888888888888884,
                            "#fdca26"
                          ],
                          [
                            1,
                            "#f0f921"
                          ]
                        ]
                      }
                    ],
                    "scattermapbox": [
                      {
                        "marker": {
                          "colorbar": {
                            "outlinewidth": 0,
                            "ticks": ""
                          }
                        },
                        "type": "scattermapbox"
                      }
                    ],
                    "scatter3d": [
                      {
                        "marker": {
                          "colorbar": {
                            "outlinewidth": 0,
                            "ticks": ""
                          }
                        },
                        "line": {
                          "colorbar": {
                            "outlinewidth": 0,
                            "ticks": ""
                          }
                        },
                        "type": "scatter3d"
                      }
                    ],
                    "scattergl": [
                      {
                        "marker": {
                          "colorbar": {
                            "outlinewidth": 0,
                            "ticks": ""
                          }
                        },
                        "type": "scattergl"
                      }
                    ],
                    "histogram": [
                      {
                        "marker": {
                          "colorbar": {
                            "outlinewidth": 0,
                            "ticks": ""
                          }
                        },
                        "type": "histogram"
                      }
                    ],
                    "heatmapgl": [
                      {
                        "colorbar": {
                          "outlinewidth": 0,
                          "ticks": ""
                        },
                        "type": "heatmapgl",
                        "colorscale": [
                          [
                            0,
                            "#0d0887"
                          ],
                          [
                            0.1111111111111111,
                            "#46039f"
                          ],
                          [
                            0.22222222222222221,
                            "#7201a8"
                          ],
                          [
                            0.33333333333333331,
                            "#9c179e"
                          ],
                          [
                            0.44444444444444442,
                            "#bd3786"
                          ],
                          [
                            0.55555555555555558,
                            "#d8576b"
                          ],
                          [
                            0.66666666666666663,
                            "#ed7953"
                          ],
                          [
                            0.77777777777777779,
                            "#fb9f3a"
                          ],
                          [
                            0.88888888888888884,
                            "#fdca26"
                          ],
                          [
                            1,
                            "#f0f921"
                          ]
                        ]
                      }
                    ],
                    "scatterpolar": [
                      {
                        "marker": {
                          "colorbar": {
                            "outlinewidth": 0,
                            "ticks": ""
                          }
                        },
                        "type": "scatterpolar"
                      }
                    ],
                    "histogram2d": [
                      {
                        "colorbar": {
                          "outlinewidth": 0,
                          "ticks": ""
                        },
                        "type": "histogram2d",
                        "colorscale": [
                          [
                            0,
                            "#0d0887"
                          ],
                          [
                            0.1111111111111111,
                            "#46039f"
                          ],
                          [
                            0.22222222222222221,
                            "#7201a8"
                          ],
                          [
                            0.33333333333333331,
                            "#9c179e"
                          ],
                          [
                            0.44444444444444442,
                            "#bd3786"
                          ],
                          [
                            0.55555555555555558,
                            "#d8576b"
                          ],
                          [
                            0.66666666666666663,
                            "#ed7953"
                          ],
                          [
                            0.77777777777777779,
                            "#fb9f3a"
                          ],
                          [
                            0.88888888888888884,
                            "#fdca26"
                          ],
                          [
                            1,
                            "#f0f921"
                          ]
                        ]
                      }
                    ],
                    "scattergeo": [
                      {
                        "marker": {
                          "colorbar": {
                            "outlinewidth": 0,
                            "ticks": ""
                          }
                        },
                        "type": "scattergeo"
                      }
                    ],
                    "bar": [
                      {
                        "marker": {
                          "line": {
                            "color": "#E5ECF6",
                            "width": 0.5
                          }
                        },
                        "type": "bar",
                        "error_x": {
                          "color": "#2a3f5f"
                        },
                        "error_y": {
                          "color": "#2a3f5f"
                        }
                      }
                    ],
                    "choropleth": [
                      {
                        "colorbar": {
                          "outlinewidth": 0,
                          "ticks": ""
                        },
                        "type": "choropleth"
                      }
                    ],
                    "parcoords": [
                      {
                        "line": {
                          "colorbar": {
                            "outlinewidth": 0,
                            "ticks": ""
                          }
                        },
                        "type": "parcoords"
                      }
                    ],
                    "barpolar": [
                      {
                        "marker": {
                          "line": {
                            "color": "#E5ECF6",
                            "width": 0.5
                          }
                        },
                        "type": "barpolar"
                      }
                    ],
                    "histogram2dcontour": [
                      {
                        "colorbar": {
                          "outlinewidth": 0,
                          "ticks": ""
                        },
                        "type": "histogram2dcontour",
                        "colorscale": [
                          [
                            0,
                            "#0d0887"
                          ],
                          [
                            0.1111111111111111,
                            "#46039f"
                          ],
                          [
                            0.22222222222222221,
                            "#7201a8"
                          ],
                          [
                            0.33333333333333331,
                            "#9c179e"
                          ],
                          [
                            0.44444444444444442,
                            "#bd3786"
                          ],
                          [
                            0.55555555555555558,
                            "#d8576b"
                          ],
                          [
                            0.66666666666666663,
                            "#ed7953"
                          ],
                          [
                            0.77777777777777779,
                            "#fb9f3a"
                          ],
                          [
                            0.88888888888888884,
                            "#fdca26"
                          ],
                          [
                            1,
                            "#f0f921"
                          ]
                        ]
                      }
                    ],
                    "scatter": [
                      {
                        "marker": {
                          "colorbar": {
                            "outlinewidth": 0,
                            "ticks": ""
                          }
                        },
                        "type": "scatter"
                      }
                    ]
                  }
                },
                "title": {
                  "text": "Confirmed Cases as of March 28, 2020",
                  "x": 0.5
                }
              }
            }
          },
          "metadata": {}
        }
      ]
    }
  ],
  "metadata": {
    "kernelspec": {
      "name": "python36",
      "display_name": "Python 3.6",
      "language": "python"
    },
    "language_info": {
      "mimetype": "text/x-python",
      "nbconvert_exporter": "python",
      "name": "python",
      "pygments_lexer": "ipython3",
      "version": "3.6.6",
      "file_extension": ".py",
      "codemirror_mode": {
        "version": 3,
        "name": "ipython"
      }
    }
  },
  "nbformat": 4,
  "nbformat_minor": 2
}